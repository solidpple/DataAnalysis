{
 "cells": [
  {
   "cell_type": "code",
   "execution_count": 9,
   "metadata": {
    "collapsed": true
   },
   "outputs": [],
   "source": [
    "# dataset 불러오기\n",
    "import pandas as pd\n",
    "import numpy as np\n",
    "import matplotlib as plt\n",
    "# jupyter에서 matplotlib의 결과를 아래 바로 보이게 하기 위해 %matplotlib inline을 입력합니다.\n",
    "%matplotlib inline\n",
    "\n",
    "# 다운로드 받은 데이터를 pandas의 dataframe형태로 읽어옵니다.\n",
    "df = pd.read_csv(\"/media/ssd/projects/python/Aries/DataGenerator/performance.csv\")\n",
    "import datetime \n",
    "df['timestamp_milli'] = df['timestamp_milli'].apply(lambda x: datetime.datetime.fromtimestamp(x/1000))\n",
    "df = df.set_index(['timestamp_milli']) \n",
    "#datetime.datetime.fromtimestamp(df['timestamp_milli'][0]/1000)\n",
    "#df['timestamp_milli'] = datetime.datetime.fromtimestamp(df['timestamp_milli']/1000)\n",
    "#df = df.set_index(['timestamp_milli'])"
   ]
  },
  {
   "cell_type": "code",
   "execution_count": 10,
   "metadata": {
    "collapsed": true
   },
   "outputs": [],
   "source": [
    "import plotly \n",
    "plotly.tools.set_credentials_file(username='DemoAccount', api_key='lr1c37zw81')"
   ]
  },
  {
   "cell_type": "code",
   "execution_count": 29,
   "metadata": {
    "collapsed": false
   },
   "outputs": [
    {
     "name": "stdout",
     "output_type": "stream",
     "text": [
      "Index([u'android', u'com.android.chrome', u'com.android.contacts',\n",
      "       u'com.android.incallui', u'com.android.mms', u'com.android.settings',\n",
      "       u'com.android.systemui', u'com.buzzpia.aqua.launcher',\n",
      "       u'com.facebook.katana', u'com.hyundaicard.appcard', u'com.kakao.story',\n",
      "       u'com.kakao.talk', u'com.lge.ime', u'com.lge.lockscreensettings',\n",
      "       u'com.socialapps.homeplus', u'kr.co.emart.emartmall',\n",
      "       u'net.daum.android.webtoon', u'sixclk.newpiki'],\n",
      "      dtype='object')\n"
     ]
    }
   ],
   "source": [
    "df['current_task_package'].value_counts()\n",
    "df['current_task_package'] = df['current_task_package'].astype('category')\n",
    "categories = df['current_task_package'].cat.categories\n",
    "print categories"
   ]
  },
  {
   "cell_type": "code",
   "execution_count": 37,
   "metadata": {
    "collapsed": false
   },
   "outputs": [
    {
     "name": "stdout",
     "output_type": "stream",
     "text": [
      "android\n",
      "com.android.chrome\n",
      "com.android.contacts\n",
      "com.android.incallui\n",
      "com.android.mms\n",
      "com.android.settings\n",
      "com.android.systemui\n",
      "com.buzzpia.aqua.launcher\n",
      "com.facebook.katana\n",
      "com.hyundaicard.appcard\n",
      "com.kakao.story\n",
      "com.kakao.talk\n",
      "com.lge.ime\n",
      "com.lge.lockscreensettings\n",
      "com.socialapps.homeplus\n",
      "kr.co.emart.emartmall\n",
      "net.daum.android.webtoon\n",
      "sixclk.newpiki\n",
      "                         current_task_package  wakelock_power_mah  \\\n",
      "timestamp_milli                                                     \n",
      "2016-06-23 21:11:32  net.daum.android.webtoon           30.345355   \n",
      "2016-06-23 21:11:32  net.daum.android.webtoon           30.345355   \n",
      "2016-06-23 21:11:33  net.daum.android.webtoon           30.345347   \n",
      "2016-06-23 21:11:33  net.daum.android.webtoon           30.345347   \n",
      "2016-06-23 21:11:33  net.daum.android.webtoon           30.345347   \n",
      "2016-06-23 21:11:33  net.daum.android.webtoon           30.345347   \n",
      "2016-06-23 21:11:34  net.daum.android.webtoon           30.345347   \n",
      "2016-06-23 21:11:34  net.daum.android.webtoon           30.345355   \n",
      "2016-06-23 21:11:35  net.daum.android.webtoon           30.345355   \n",
      "2016-06-23 21:11:40  net.daum.android.webtoon           30.345347   \n",
      "2016-06-23 21:11:40  net.daum.android.webtoon           30.345347   \n",
      "2016-06-23 21:11:40  net.daum.android.webtoon           30.345347   \n",
      "2016-06-23 21:11:41  net.daum.android.webtoon           30.345355   \n",
      "2016-06-23 21:11:42  net.daum.android.webtoon           30.345355   \n",
      "2016-06-23 21:11:42  net.daum.android.webtoon           30.345355   \n",
      "2016-06-23 21:11:43  net.daum.android.webtoon           30.345355   \n",
      "2016-06-23 21:11:43  net.daum.android.webtoon           30.345355   \n",
      "2016-06-23 21:11:43  net.daum.android.webtoon           30.345347   \n",
      "2016-06-23 21:11:43  net.daum.android.webtoon           30.345347   \n",
      "\n",
      "                     sreclaimable  cpu_power_mah  level   cached  gpu_busy  \\\n",
      "timestamp_milli                                                              \n",
      "2016-06-23 21:11:32         67096     410.434737     42  1275808        20   \n",
      "2016-06-23 21:11:32         67104     410.434737     42  1302792        20   \n",
      "2016-06-23 21:11:33         67104     410.582483     42  1302792        20   \n",
      "2016-06-23 21:11:33         67104     410.582483     42  1302792        20   \n",
      "2016-06-23 21:11:33         67104     410.582483     42  1304704        20   \n",
      "2016-06-23 21:11:33         67104     410.624018     42  1304704        20   \n",
      "2016-06-23 21:11:34         67104     410.624018     42  1304688        20   \n",
      "2016-06-23 21:11:34         67104     410.707408     42  1304688        20   \n",
      "2016-06-23 21:11:35         67104     410.707408     42  1306100        20   \n",
      "2016-06-23 21:11:40         67104     410.967013     42  1306100        20   \n",
      "2016-06-23 21:11:40         67104     410.967013     42  1306100        20   \n",
      "2016-06-23 21:11:40         67104     410.967013     42  1300020        20   \n",
      "2016-06-23 21:11:41         67104     411.022237     42  1300020        20   \n",
      "2016-06-23 21:11:42         67104     411.022237     42  1300564        20   \n",
      "2016-06-23 21:11:42         67104     411.113377     42  1300564        20   \n",
      "2016-06-23 21:11:43         67104     411.113377     42  1300564        20   \n",
      "2016-06-23 21:11:43         67104     411.113377     42  1302692        20   \n",
      "2016-06-23 21:11:43         67104     411.171861     42  1302692        20   \n",
      "2016-06-23 21:11:43         67104     411.171861     42  1301624        20   \n",
      "\n",
      "                       total_power  vfps_ratio  mobile_tx  adc_vts  memfree  \\\n",
      "timestamp_milli                                                               \n",
      "2016-06-23 21:11:32  216573.247519          60          0      296   221472   \n",
      "2016-06-23 21:11:32  216573.247519          60          0      296    91972   \n",
      "2016-06-23 21:11:33  216602.934652          60          0      296    91972   \n",
      "2016-06-23 21:11:33  216602.934652          60          0      296    91972   \n",
      "2016-06-23 21:11:33  216602.934652          60          0      296    98656   \n",
      "2016-06-23 21:11:33  216610.393811          60          0      296    98656   \n",
      "2016-06-23 21:11:34  216610.393811          60          0      296    91520   \n",
      "2016-06-23 21:11:34  216628.448205          60          0      296    91520   \n",
      "2016-06-23 21:11:35  216628.448205          60          0      296    86404   \n",
      "2016-06-23 21:11:40  216707.260200          60          0      296    86404   \n",
      "2016-06-23 21:11:40  216707.260200          60          0      296    86404   \n",
      "2016-06-23 21:11:40  216707.260200          60          0      296    88372   \n",
      "2016-06-23 21:11:41  216724.987684          60          0      296    88372   \n",
      "2016-06-23 21:11:42  216724.987684          60          0      296    85132   \n",
      "2016-06-23 21:11:42  216743.724024          60          0      296    85132   \n",
      "2016-06-23 21:11:43  216743.724024          60          0      296    85132   \n",
      "2016-06-23 21:11:43  216743.724024          60          0      296    76808   \n",
      "2016-06-23 21:11:43  216756.657156          60          0      296    76808   \n",
      "2016-06-23 21:11:43  216756.657156          60          0      296    81864   \n",
      "\n",
      "                     wifi_rx  app_launch_time  sunreclaim  mobile_rx  wifi_tx  \\\n",
      "timestamp_milli                                                                 \n",
      "2016-06-23 21:11:32       49                0      132656          0       60   \n",
      "2016-06-23 21:11:32        0                0      132672          0        0   \n",
      "2016-06-23 21:11:33      216                0      132672          0      234   \n",
      "2016-06-23 21:11:33        0              360      132672          0        0   \n",
      "2016-06-23 21:11:33        0                0      132672          0        0   \n",
      "2016-06-23 21:11:33       39                0      132672          0       59   \n",
      "2016-06-23 21:11:34        0                0      132672          0        0   \n",
      "2016-06-23 21:11:34      242                0      132672          0      165   \n",
      "2016-06-23 21:11:35        0                0      132672          0        0   \n",
      "2016-06-23 21:11:40      130                0      132672          0      115   \n",
      "2016-06-23 21:11:40        0              190      132672          0        0   \n",
      "2016-06-23 21:11:40        0                0      132680          0        0   \n",
      "2016-06-23 21:11:41       14                0      132680          0       16   \n",
      "2016-06-23 21:11:42        0                0      132680          0        0   \n",
      "2016-06-23 21:11:42       50                0      132680          0       60   \n",
      "2016-06-23 21:11:43        0              110      132680          0        0   \n",
      "2016-06-23 21:11:43        0                0      132696          0        0   \n",
      "2016-06-23 21:11:43       14                0      132696          0       19   \n",
      "2016-06-23 21:11:43        0                0      132696          0        0   \n",
      "\n",
      "                     adc_pa_therm0  adc_pa_therm1  \n",
      "timestamp_milli                                    \n",
      "2016-06-23 21:11:32             24             25  \n",
      "2016-06-23 21:11:32             24             25  \n",
      "2016-06-23 21:11:33             24             25  \n",
      "2016-06-23 21:11:33             24             25  \n",
      "2016-06-23 21:11:33             24             25  \n",
      "2016-06-23 21:11:33             24             25  \n",
      "2016-06-23 21:11:34             24             25  \n",
      "2016-06-23 21:11:34             24             25  \n",
      "2016-06-23 21:11:35             24             25  \n",
      "2016-06-23 21:11:40             24             25  \n",
      "2016-06-23 21:11:40             24             25  \n",
      "2016-06-23 21:11:40             24             25  \n",
      "2016-06-23 21:11:41             24             25  \n",
      "2016-06-23 21:11:42             24             25  \n",
      "2016-06-23 21:11:42             24             25  \n",
      "2016-06-23 21:11:43             24             25  \n",
      "2016-06-23 21:11:43             24             25  \n",
      "2016-06-23 21:11:43             24             25  \n",
      "2016-06-23 21:11:43             24             25  \n"
     ]
    }
   ],
   "source": [
    "category_values = {}\n",
    "for category in categories:\n",
    "    category_values[category] = df[df['current_task_package']==category] "
   ]
  },
  {
   "cell_type": "code",
   "execution_count": 41,
   "metadata": {
    "collapsed": false
   },
   "outputs": [
    {
     "name": "stdout",
     "output_type": "stream",
     "text": [
      "The draw time for this plot will be slow for clients without much RAM.\n"
     ]
    },
    {
     "name": "stderr",
     "output_type": "stream",
     "text": [
      "/usr/local/lib/python2.7/site-packages/plotly/plotly/plotly.py:1443: UserWarning:\n",
      "\n",
      "Estimated Draw Time Slow\n",
      "\n"
     ]
    },
    {
     "data": {
      "text/plain": [
       "\"\\nN = 100\\nrandom_x = np.linspace(0, 1, N)\\nrandom_y0 = np.random.randn(N)+5\\nrandom_y1 = np.random.randn(N)\\nrandom_y2 = np.random.randn(N)-5\\n\\n# Create traces\\ntrace0 = go.Scatter(\\n    x = df.index,\\n    y = category_values['com.kakao.talk']['wakelock_power_mah'],\\n    mode = 'kakao',\\n    name = 'com.kakao.talk'\\n)\\ntrace1 = go.Scatter(\\n    x = df.index,\\n    y = random_y1,\\n    mode = 'lines+markers',\\n    name = 'lines+markers'\\n)\\ntrace2 = go.Scatter(\\n    x = df.index,\\n    y = random_y2,\\n    mode = 'lines',\\n    name = 'lines'\\n)\\n\\ndata = [trace0, trace1, trace2]\\n\""
      ]
     },
     "execution_count": 41,
     "metadata": {},
     "output_type": "execute_result"
    }
   ],
   "source": [
    "import plotly.plotly as py\n",
    "import plotly.graph_objs as go\n",
    "import numpy as np\n",
    "\n",
    "data = []\n",
    "for category, category_df in category_values.items():\n",
    "    trace = go.Scatter(\n",
    "        x = df.index,\n",
    "        y = category_df['wakelock_power_mah'],\n",
    "        mode = category,\n",
    "        name = category\n",
    "    )\n",
    "    data.append(trace)\n",
    "\n",
    "py.iplot(data, filename='scatter-mode')\n",
    "\n",
    "    \n",
    "'''\n",
    "N = 100\n",
    "random_x = np.linspace(0, 1, N)\n",
    "random_y0 = np.random.randn(N)+5\n",
    "random_y1 = np.random.randn(N)\n",
    "random_y2 = np.random.randn(N)-5\n",
    "\n",
    "# Create traces\n",
    "trace0 = go.Scatter(\n",
    "    x = df.index,\n",
    "    y = category_values['com.kakao.talk']['wakelock_power_mah'],\n",
    "    mode = 'kakao',\n",
    "    name = 'com.kakao.talk'\n",
    ")\n",
    "trace1 = go.Scatter(\n",
    "    x = df.index,\n",
    "    y = random_y1,\n",
    "    mode = 'lines+markers',\n",
    "    name = 'lines+markers'\n",
    ")\n",
    "trace2 = go.Scatter(\n",
    "    x = df.index,\n",
    "    y = random_y2,\n",
    "    mode = 'lines',\n",
    "    name = 'lines'\n",
    ")\n",
    "\n",
    "data = [trace0, trace1, trace2]\n",
    "'''"
   ]
  }
 ],
 "metadata": {
  "kernelspec": {
   "display_name": "Python 2",
   "language": "python",
   "name": "python2"
  },
  "language_info": {
   "codemirror_mode": {
    "name": "ipython",
    "version": 2
   },
   "file_extension": ".py",
   "mimetype": "text/x-python",
   "name": "python",
   "nbconvert_exporter": "python",
   "pygments_lexer": "ipython2",
   "version": "2.7.9"
  }
 },
 "nbformat": 4,
 "nbformat_minor": 0
}
